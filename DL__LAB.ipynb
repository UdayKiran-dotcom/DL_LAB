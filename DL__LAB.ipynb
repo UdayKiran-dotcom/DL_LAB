{
  "nbformat": 4,
  "nbformat_minor": 0,
  "metadata": {
    "colab": {
      "provenance": [],
      "authorship_tag": "ABX9TyMYbWsmnoMpAqSuhgJqhUbB",
      "include_colab_link": true
    },
    "kernelspec": {
      "name": "python3",
      "display_name": "Python 3"
    },
    "language_info": {
      "name": "python"
    }
  },
  "cells": [
    {
      "cell_type": "markdown",
      "metadata": {
        "id": "view-in-github",
        "colab_type": "text"
      },
      "source": [
        "<a href=\"https://colab.research.google.com/github/UdayKiran-dotcom/DL_LAB/blob/main/DL__LAB.ipynb\" target=\"_parent\"><img src=\"https://colab.research.google.com/assets/colab-badge.svg\" alt=\"Open In Colab\"/></a>"
      ]
    },
    {
      "cell_type": "code",
      "execution_count": 1,
      "metadata": {
        "colab": {
          "base_uri": "https://localhost:8080/"
        },
        "id": "65DuP2OYO0e5",
        "outputId": "3b9860eb-3682-44e5-8697-591cbfd6827f"
      },
      "outputs": [
        {
          "output_type": "stream",
          "name": "stdout",
          "text": [
            "[0.9897704]\n"
          ]
        }
      ],
      "source": [
        "from joblib.numpy_pickle_utils import xrange\n",
        "from numpy import *\n",
        "\n",
        "\n",
        "class NeuralNet(object):\n",
        "\tdef __init__(self):\n",
        "\t\t# Generate random numbers\n",
        "\t\trandom.seed(1)\n",
        "\n",
        "\t\t# Assign random weights to a 3 x 1 matrix,\n",
        "\t\tself.synaptic_weights = 2 * random.random((3, 1)) - 1\n",
        "\n",
        "\t# The Sigmoid function\n",
        "\tdef __sigmoid(self, x):\n",
        "\t\treturn 1 / (1 + exp(-x))\n",
        "\n",
        "\t# The derivative of the Sigmoid function.\n",
        "\t# This is the gradient of the Sigmoid curve.\n",
        "\tdef __sigmoid_derivative(self, x):\n",
        "\t\treturn x * (1 - x)\n",
        "\n",
        "\t# Train the neural network and adjust the weights each time.\n",
        "\tdef train(self, inputs, outputs, training_iterations):\n",
        "\t\tfor iteration in xrange(training_iterations):\n",
        "\t\t\t# Pass the training set through the network.\n",
        "\t\t\toutput = self.learn(inputs)\n",
        "\n",
        "\t\t\t# Calculate the error\n",
        "\t\t\terror = outputs - output\n",
        "\n",
        "\t\t\t# Adjust the weights by a factor\n",
        "\t\t\tfactor = dot(inputs.T, error * self.__sigmoid_derivative(output))\n",
        "\t\t\tself.synaptic_weights += factor\n",
        "\n",
        "\t\t# The neural network thinks.\n",
        "\n",
        "\tdef learn(self, inputs):\n",
        "\t\treturn self.__sigmoid(dot(inputs, self.synaptic_weights))\n",
        "\n",
        "\n",
        "if __name__ == \"__main__\":\n",
        "\t# Initialize\n",
        "\tneural_network = NeuralNet()\n",
        "\n",
        "\t# The training set.\n",
        "\tinputs = array([[0, 1, 1], [1, 0, 0], [1, 0, 1]])\n",
        "\toutputs = array([[1, 0, 1]]).T\n",
        "\n",
        "\t# Train the neural network\n",
        "\tneural_network.train(inputs, outputs, 10000)\n",
        "\n",
        "\t# Test the neural network with a test example.\n",
        "\tprint(neural_network.learn(array([1, 0, 1])))\n"
      ]
    },
    {
      "cell_type": "code",
      "source": [
        "import numpy as np\n",
        "\n",
        "class NeuralNet(object):\n",
        "    def __init__(self, input_size, hidden_size, output_size):\n",
        "        self.W1 = np.random.randn(input_size, hidden_size)\n",
        "        self.b1 = np.zeros((1, hidden_size))\n",
        "        self.W2 = np.random.randn(hidden_size, output_size)\n",
        "        self.b2 = np.zeros((1, output_size))\n",
        "\n",
        "    def sigmoid(self, x):\n",
        "        return 1 / (1 + np.exp(-x))\n",
        "\n",
        "    def sigmoid_derivative(self, x):\n",
        "        return x * (1 - x)\n",
        "\n",
        "    def forward(self, X):\n",
        "        self.z1 = np.dot(X, self.W1) + self.b1\n",
        "        self.a1 = self.sigmoid(self.z1)\n",
        "        self.z2 = np.dot(self.a1, self.W2) + self.b2\n",
        "        self.a2 = self.sigmoid(self.z2)\n",
        "        return self.a2\n",
        "\n",
        "    def backward(self, X, y, output):\n",
        "        delta2 = (y - output) * self.sigmoid_derivative(output)\n",
        "        dW2 = np.dot(self.a1.T, delta2)\n",
        "        db2 = np.sum(delta2, axis=0, keepdims=True)\n",
        "        delta1 = np.dot(delta2, self.W2.T) * self.sigmoid_derivative(self.a1)\n",
        "        dW1 = np.dot(X.T, delta1)\n",
        "        db1 = np.sum(delta1, axis=0)\n",
        "        return dW1, db1, dW2, db2\n",
        "\n",
        "    def train(self, X, y, epochs, learning_rate):\n",
        "        for i in range(epochs):\n",
        "            output = self.forward(X)\n",
        "            dW1, db1, dW2, db2 = self.backward(X, y, output)\n",
        "\n",
        "            self.W1 += learning_rate * dW1\n",
        "            self.b1 += learning_rate * db1\n",
        "            self.W2 += learning_rate * dW2\n",
        "            self.b2 += learning_rate * db2\n",
        "\n",
        "            if i % 100 == 0:\n",
        "                loss = np.mean(np.square(y- output))\n",
        "                print(f\"Epoch {i}, loss: {loss}\")\n",
        "\n",
        "# Load the iris dataset\n",
        "from sklearn import datasets\n",
        "iris = datasets.load_iris()\n",
        "X = iris.data\n",
        "y = iris.target\n",
        "\n",
        "# Convert the target variable to one-hot encoding\n",
        "y = np.eye(3)[y]\n",
        "\n",
        "# Initialize and train the neural network\n",
        "input_size = 4\n",
        "hidden_size = 5\n",
        "output_size = 3\n",
        "nn = NeuralNet(input_size, hidden_size, output_size)\n",
        "nn.train(X, y, epochs=1000, learning_rate=0.1)\n",
        "\n",
        "# Example prediction\n",
        "test_input = np.array([[5.1, 3.5, 1.4, 0.2]])\n",
        "prediction = nn.forward(test_input)\n",
        "print(\"Prediction:\", prediction)"
      ],
      "metadata": {
        "colab": {
          "base_uri": "https://localhost:8080/"
        },
        "id": "jue7JID_Pgqz",
        "outputId": "af4ea21b-44be-4489-e4d9-bc31a2d830ba"
      },
      "execution_count": 3,
      "outputs": [
        {
          "output_type": "stream",
          "name": "stdout",
          "text": [
            "Epoch 0, loss: 0.3122459671536794\n",
            "Epoch 100, loss: 0.237806345450122\n",
            "Epoch 200, loss: 0.2285888837067248\n",
            "Epoch 300, loss: 0.22856655673375084\n",
            "Epoch 400, loss: 0.11420836766615153\n",
            "Epoch 500, loss: 0.11444810429819786\n",
            "Epoch 600, loss: 0.2332421214252929\n",
            "Epoch 700, loss: 0.22535193619997465\n",
            "Epoch 800, loss: 0.24798024049253242\n",
            "Epoch 900, loss: 0.2276401541107013\n",
            "Prediction: [[0.10400117 0.3452084  0.47050416]]\n"
          ]
        }
      ]
    },
    {
      "cell_type": "code",
      "source": [],
      "metadata": {
        "id": "kPHzI-WRPmk6"
      },
      "execution_count": null,
      "outputs": []
    }
  ]
}